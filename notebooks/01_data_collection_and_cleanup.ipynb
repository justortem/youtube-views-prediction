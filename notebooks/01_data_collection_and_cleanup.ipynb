{
 "cells": [
  {
   "cell_type": "raw",
   "id": "0fa27755-fcf0-45d1-b8f5-5e59627a4523",
   "metadata": {},
   "source": [
    "__   __        _____     _           ______                             _                                 _           _     \n",
    "\\ \\ / /       |_   _|   | |          | ___ \\                           (_)                               | |         (_)    \n",
    " \\ V /___  _   _| |_   _| |__   ___  | |_/ /___  __ _ _ __ ___  ___ ___ _  ___  _ __     __ _ _ __   __ _| |_   _ ___ _ ___ \n",
    "  \\ // _ \\| | | | | | | | '_ \\ / _ \\ |    // _ \\/ _` | '__/ _ \\/ __/ __| |/ _ \\| '_ \\   / _` | '_ \\ / _` | | | | / __| / __|\n",
    "  | | (_) | |_| | | |_| | |_) |  __/ | |\\ \\  __/ (_| | | |  __/\\__ \\__ \\ | (_) | | | | | (_| | | | | (_| | | |_| \\__ \\ \\__ \\\n",
    "  \\_/\\___/ \\__,_\\_/\\__,_|_.__/ \\___| \\_| \\_\\___|\\__, |_|  \\___||___/___/_|\\___/|_| |_|  \\__,_|_| |_|\\__,_|_|\\__, |___/_|___/\n",
    "                                                 __/ |                                                       __/ |          \n",
    "                                                |___/                                                       |___/     "
   ]
  },
  {
   "cell_type": "markdown",
   "id": "75008867-cfb9-4d2b-8d59-7a52ceeb3e35",
   "metadata": {},
   "source": [
    "# Part 1: Data collection\n",
    "Done by Artem Mozol / 411021320"
   ]
  },
  {
   "cell_type": "code",
   "execution_count": 1,
   "id": "dcb31290-2f95-429b-950a-769f868029d9",
   "metadata": {},
   "outputs": [
    {
     "data": {
      "text/plain": [
       "1"
      ]
     },
     "execution_count": 1,
     "metadata": {},
     "output_type": "execute_result"
    }
   ],
   "source": [
    "import os\n",
    "collection_path = '../src/data_collection/collect_data.py'\n",
    "os.system(f'python {collection_path}')"
   ]
  },
  {
   "cell_type": "markdown",
   "id": "59b3a1a2-de1d-4aec-9871-5e8650804886",
   "metadata": {},
   "source": [
    "\"1\" corresponds to successful activation of a Python script.\n",
    "<br>At this point in time, we have a raw dataset in /datasets/ folder."
   ]
  },
  {
   "cell_type": "code",
   "execution_count": 9,
   "id": "8d52c7f5-00c9-4575-b6a7-c9bd834682ac",
   "metadata": {},
   "outputs": [],
   "source": [
    "os.startfile(r\"C:\\Users\\archi\\Desktop\\youtube-views-prediction\\src\\data_collection\\datasets\\video_data.csv\")"
   ]
  },
  {
   "cell_type": "markdown",
   "id": "cdbb6922-6040-4c9b-9ef8-5b97909d0356",
   "metadata": {},
   "source": [
    "After reviewing it, we need to clean it up as well."
   ]
  },
  {
   "cell_type": "markdown",
   "id": "70b4c880-5ac0-4503-b4af-0d529a657fba",
   "metadata": {},
   "source": [
    "# Part 2: Data cleanup"
   ]
  },
  {
   "cell_type": "code",
   "execution_count": 2,
   "id": "c6f9d927-6271-462c-afa4-e3c0aebb837e",
   "metadata": {},
   "outputs": [
    {
     "data": {
      "text/plain": [
       "1"
      ]
     },
     "execution_count": 2,
     "metadata": {},
     "output_type": "execute_result"
    }
   ],
   "source": [
    "import os\n",
    "cleanup_path = '../src/data_collection/clean_data.py'\n",
    "os.system(f'python {cleanup_path}')"
   ]
  },
  {
   "cell_type": "markdown",
   "id": "990ec748-d51d-4045-9a6d-61c3ed98a051",
   "metadata": {},
   "source": [
    "The main function of the collection and cleanup scripts ends here. We can review both of the resulting files in their core directories:"
   ]
  },
  {
   "cell_type": "code",
   "execution_count": 10,
   "id": "4241a29d-90f0-47b7-a03e-f628532be557",
   "metadata": {},
   "outputs": [],
   "source": [
    "os.startfile(r\"C:\\Users\\archi\\Desktop\\youtube-views-prediction\\src\\data_collection\\datasets\\cleaned_video_data.csv\")"
   ]
  }
 ],
 "metadata": {
  "kernelspec": {
   "display_name": "Python 3 (ipykernel)",
   "language": "python",
   "name": "python3"
  },
  "language_info": {
   "codemirror_mode": {
    "name": "ipython",
    "version": 3
   },
   "file_extension": ".py",
   "mimetype": "text/x-python",
   "name": "python",
   "nbconvert_exporter": "python",
   "pygments_lexer": "ipython3",
   "version": "3.9.7"
  }
 },
 "nbformat": 4,
 "nbformat_minor": 5
}
